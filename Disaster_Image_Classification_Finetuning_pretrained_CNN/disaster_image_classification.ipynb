{
 "cells": [
  {
   "cell_type": "code",
   "execution_count": 0,
   "metadata": {
    "colab": {
     "base_uri": "https://localhost:8080/",
     "height": 208
    },
    "colab_type": "code",
    "id": "H4Dn9XvTcFAg",
    "outputId": "8c948608-e184-41af-9113-a18ff90e6a6c",
    "scrolled": true
   },
   "outputs": [
    {
     "name": "stdout",
     "output_type": "stream",
     "text": [
      "--2019-12-01 19:22:49--  https://crisisnlp.qcri.org/data/ASONAM17_damage_images/ASONAM17_Damage_Image_Dataset.tar.gz\n",
      "Resolving crisisnlp.qcri.org (crisisnlp.qcri.org)... 80.76.166.234\n",
      "Connecting to crisisnlp.qcri.org (crisisnlp.qcri.org)|80.76.166.234|:443... connected.\n",
      "HTTP request sent, awaiting response... 200 OK\n",
      "Length: 4555678900 (4.2G) [application/x-gzip]\n",
      "Saving to: ‘ASONAM17_Damage_Image_Dataset.tar.gz.1’\n",
      "\n",
      "ASONAM17_Damage_Ima 100%[===================>]   4.24G  11.1MB/s    in 7m 56s  \n",
      "\n",
      "2019-12-01 19:30:46 (9.14 MB/s) - ‘ASONAM17_Damage_Image_Dataset.tar.gz.1’ saved [4555678900/4555678900]\n",
      "\n"
     ]
    }
   ],
   "source": [
    "!wget https://crisisnlp.qcri.org/data/ASONAM17_damage_images/ASONAM17_Damage_Image_Dataset.tar.gz"
   ]
  },
  {
   "cell_type": "code",
   "execution_count": 0,
   "metadata": {
    "colab": {},
    "colab_type": "code",
    "id": "4Vw_QDofeTg5"
   },
   "outputs": [],
   "source": [
    "!tar -xf ASONAM17_Damage_Image_Dataset.tar.gz"
   ]
  },
  {
   "cell_type": "code",
   "execution_count": 0,
   "metadata": {
    "colab": {
     "base_uri": "https://localhost:8080/",
     "height": 1000
    },
    "colab_type": "code",
    "id": "MN2LmJvij1uz",
    "outputId": "c5cb856b-d99d-4d0d-eeb3-65a41ccf347b"
   },
   "outputs": [
    {
     "name": "stdout",
     "output_type": "stream",
     "text": [
      "Requirement already satisfied: tensorflow-gpu==2.0.0 in /home/rstewar2/anaconda3/envs/tf-gpu/lib/python3.7/site-packages (2.0.0)\n",
      "Requirement already satisfied: as in /home/rstewar2/anaconda3/envs/tf-gpu/lib/python3.7/site-packages (0.1)\n",
      "Requirement already satisfied: tf in /home/rstewar2/anaconda3/envs/tf-gpu/lib/python3.7/site-packages (1.0.0)\n",
      "Requirement already satisfied: astor>=0.6.0 in /home/rstewar2/anaconda3/envs/tf-gpu/lib/python3.7/site-packages (from tensorflow-gpu==2.0.0) (0.8.0)\n",
      "Requirement already satisfied: numpy<2.0,>=1.16.0 in /home/rstewar2/anaconda3/envs/tf-gpu/lib/python3.7/site-packages (from tensorflow-gpu==2.0.0) (1.17.4)\n",
      "Requirement already satisfied: gast==0.2.2 in /home/rstewar2/anaconda3/envs/tf-gpu/lib/python3.7/site-packages (from tensorflow-gpu==2.0.0) (0.2.2)\n",
      "Requirement already satisfied: wheel>=0.26 in /home/rstewar2/anaconda3/envs/tf-gpu/lib/python3.7/site-packages (from tensorflow-gpu==2.0.0) (0.33.6)\n",
      "Requirement already satisfied: absl-py>=0.7.0 in /home/rstewar2/anaconda3/envs/tf-gpu/lib/python3.7/site-packages (from tensorflow-gpu==2.0.0) (0.8.1)\n",
      "Requirement already satisfied: keras-preprocessing>=1.0.5 in /home/rstewar2/anaconda3/envs/tf-gpu/lib/python3.7/site-packages (from tensorflow-gpu==2.0.0) (1.1.0)\n",
      "Requirement already satisfied: termcolor>=1.1.0 in /home/rstewar2/anaconda3/envs/tf-gpu/lib/python3.7/site-packages (from tensorflow-gpu==2.0.0) (1.1.0)\n",
      "Requirement already satisfied: six>=1.10.0 in /home/rstewar2/anaconda3/envs/tf-gpu/lib/python3.7/site-packages (from tensorflow-gpu==2.0.0) (1.13.0)\n",
      "Requirement already satisfied: grpcio>=1.8.6 in /home/rstewar2/anaconda3/envs/tf-gpu/lib/python3.7/site-packages (from tensorflow-gpu==2.0.0) (1.16.1)\n",
      "Requirement already satisfied: opt-einsum>=2.3.2 in /home/rstewar2/anaconda3/envs/tf-gpu/lib/python3.7/site-packages (from tensorflow-gpu==2.0.0) (3.1.0)\n",
      "Requirement already satisfied: protobuf>=3.6.1 in /home/rstewar2/anaconda3/envs/tf-gpu/lib/python3.7/site-packages (from tensorflow-gpu==2.0.0) (3.10.1)\n",
      "Requirement already satisfied: google-pasta>=0.1.6 in /home/rstewar2/anaconda3/envs/tf-gpu/lib/python3.7/site-packages (from tensorflow-gpu==2.0.0) (0.1.8)\n",
      "Requirement already satisfied: keras-applications>=1.0.8 in /home/rstewar2/anaconda3/envs/tf-gpu/lib/python3.7/site-packages (from tensorflow-gpu==2.0.0) (1.0.8)\n",
      "Requirement already satisfied: wrapt>=1.11.1 in /home/rstewar2/anaconda3/envs/tf-gpu/lib/python3.7/site-packages (from tensorflow-gpu==2.0.0) (1.11.2)\n",
      "Requirement already satisfied: tensorboard<2.1.0,>=2.0.0 in /home/rstewar2/anaconda3/envs/tf-gpu/lib/python3.7/site-packages (from tensorflow-gpu==2.0.0) (2.0.2)\n",
      "Requirement already satisfied: tensorflow-estimator<2.1.0,>=2.0.0 in /home/rstewar2/anaconda3/envs/tf-gpu/lib/python3.7/site-packages (from tensorflow-gpu==2.0.0) (2.0.1)\n",
      "Requirement already satisfied: setuptools in /home/rstewar2/anaconda3/envs/tf-gpu/lib/python3.7/site-packages (from protobuf>=3.6.1->tensorflow-gpu==2.0.0) (42.0.1.post20191125)\n",
      "Requirement already satisfied: h5py in /home/rstewar2/anaconda3/envs/tf-gpu/lib/python3.7/site-packages (from keras-applications>=1.0.8->tensorflow-gpu==2.0.0) (2.9.0)\n",
      "Requirement already satisfied: google-auth-oauthlib<0.5,>=0.4.1 in /home/rstewar2/anaconda3/envs/tf-gpu/lib/python3.7/site-packages (from tensorboard<2.1.0,>=2.0.0->tensorflow-gpu==2.0.0) (0.4.1)\n",
      "Requirement already satisfied: requests<3,>=2.21.0 in /home/rstewar2/anaconda3/envs/tf-gpu/lib/python3.7/site-packages (from tensorboard<2.1.0,>=2.0.0->tensorflow-gpu==2.0.0) (2.22.0)\n",
      "Requirement already satisfied: markdown>=2.6.8 in /home/rstewar2/anaconda3/envs/tf-gpu/lib/python3.7/site-packages (from tensorboard<2.1.0,>=2.0.0->tensorflow-gpu==2.0.0) (3.1.1)\n",
      "Requirement already satisfied: google-auth<2,>=1.6.3 in /home/rstewar2/anaconda3/envs/tf-gpu/lib/python3.7/site-packages (from tensorboard<2.1.0,>=2.0.0->tensorflow-gpu==2.0.0) (1.7.1)\n",
      "Requirement already satisfied: werkzeug>=0.11.15 in /home/rstewar2/anaconda3/envs/tf-gpu/lib/python3.7/site-packages (from tensorboard<2.1.0,>=2.0.0->tensorflow-gpu==2.0.0) (0.16.0)\n",
      "Requirement already satisfied: requests-oauthlib>=0.7.0 in /home/rstewar2/anaconda3/envs/tf-gpu/lib/python3.7/site-packages (from google-auth-oauthlib<0.5,>=0.4.1->tensorboard<2.1.0,>=2.0.0->tensorflow-gpu==2.0.0) (1.3.0)\n",
      "Requirement already satisfied: certifi>=2017.4.17 in /home/rstewar2/anaconda3/envs/tf-gpu/lib/python3.7/site-packages (from requests<3,>=2.21.0->tensorboard<2.1.0,>=2.0.0->tensorflow-gpu==2.0.0) (2019.9.11)\n",
      "Requirement already satisfied: idna<2.9,>=2.5 in /home/rstewar2/anaconda3/envs/tf-gpu/lib/python3.7/site-packages (from requests<3,>=2.21.0->tensorboard<2.1.0,>=2.0.0->tensorflow-gpu==2.0.0) (2.8)\n",
      "Requirement already satisfied: chardet<3.1.0,>=3.0.2 in /home/rstewar2/anaconda3/envs/tf-gpu/lib/python3.7/site-packages (from requests<3,>=2.21.0->tensorboard<2.1.0,>=2.0.0->tensorflow-gpu==2.0.0) (3.0.4)\n",
      "Requirement already satisfied: urllib3!=1.25.0,!=1.25.1,<1.26,>=1.21.1 in /home/rstewar2/anaconda3/envs/tf-gpu/lib/python3.7/site-packages (from requests<3,>=2.21.0->tensorboard<2.1.0,>=2.0.0->tensorflow-gpu==2.0.0) (1.25.7)\n",
      "Requirement already satisfied: rsa<4.1,>=3.1.4 in /home/rstewar2/anaconda3/envs/tf-gpu/lib/python3.7/site-packages (from google-auth<2,>=1.6.3->tensorboard<2.1.0,>=2.0.0->tensorflow-gpu==2.0.0) (4.0)\n",
      "Requirement already satisfied: pyasn1-modules>=0.2.1 in /home/rstewar2/anaconda3/envs/tf-gpu/lib/python3.7/site-packages (from google-auth<2,>=1.6.3->tensorboard<2.1.0,>=2.0.0->tensorflow-gpu==2.0.0) (0.2.7)\n",
      "Requirement already satisfied: cachetools<3.2,>=2.0.0 in /home/rstewar2/anaconda3/envs/tf-gpu/lib/python3.7/site-packages (from google-auth<2,>=1.6.3->tensorboard<2.1.0,>=2.0.0->tensorflow-gpu==2.0.0) (3.1.1)\n",
      "Requirement already satisfied: oauthlib>=3.0.0 in /home/rstewar2/anaconda3/envs/tf-gpu/lib/python3.7/site-packages (from requests-oauthlib>=0.7.0->google-auth-oauthlib<0.5,>=0.4.1->tensorboard<2.1.0,>=2.0.0->tensorflow-gpu==2.0.0) (3.1.0)\n",
      "Requirement already satisfied: pyasn1>=0.1.3 in /home/rstewar2/anaconda3/envs/tf-gpu/lib/python3.7/site-packages (from rsa<4.1,>=3.1.4->google-auth<2,>=1.6.3->tensorboard<2.1.0,>=2.0.0->tensorflow-gpu==2.0.0) (0.4.8)\n"
     ]
    }
   ],
   "source": [
    "import numpy as np\n",
    "import pandas as pd\n",
    "!pip install tensorflow-gpu==2.0.0  as tf\n",
    "from PIL import Image\n",
    "import glob\n",
    "import tensorflow as tf\n",
    "from tensorflow.keras import Sequential\n",
    "from PIL import Image\n",
    "import glob\n",
    "import matplotlib.pyplot as plt"
   ]
  },
  {
   "cell_type": "code",
   "execution_count": 0,
   "metadata": {
    "colab": {},
    "colab_type": "code",
    "id": "zBdFCt7BkHd_"
   },
   "outputs": [],
   "source": [
    "# Converts a csv file to a training and validation dataset. The validation set is 20% of the entire dataset.\n",
    "def convert_to_train_and_validation(csv_file_name, training_set_name, validation_set_name):\n",
    "  # Reads a csv file and creates a panda dataframe\n",
    "  dataFrame = pd.read_csv(csv_file_name);\n",
    "  # Samples the dataframe and pulls out 20% of the values and creates another dataset which is later used as the validation set\n",
    " # rows = dataFrame.sample(frac=0.20)\n",
    "  \n",
    "  index = []\n",
    "  for i in range(len(dataFrame)):\n",
    "    index.append(dataFrame.index[i])\n",
    "\n",
    "  # Drops the index from the results of the csv file\n",
    "  dfObj = dataFrame.drop(index = index, axis = 0)\n",
    "\n",
    "  # Creates a training and a validation dataset\n",
    "  dataFrame.to_csv(training_set_name, index = False)\n",
    "  #dfObj.to_csv(validation_set_name, index = False)\n",
    "  # Returns the dataframe object\n",
    "  return dfObj;\n",
    "\n",
    "# Creating a list of headers to append to the datasets since the csv file does not come with headers. \n",
    "# The headers are f0, f1, f2 .... \n",
    "def CreateHeaders(dataFrame):\n",
    "  headers = []\n",
    "  for x in range(len(dataFrame.columns)):\n",
    "    headers.append(\"f\"+ str(x))\n",
    "  return headers\n",
    "\n",
    "def get_dataset(file_path, **kwargs):\n",
    "  dataset = tf.data.experimental.make_csv_dataset(\n",
    "      file_path,\n",
    "      batch_size=5, # Artificially small to make examples easier to show.\n",
    "      na_value=\"?\",\n",
    "      num_epochs=1,\n",
    "      ignore_errors=True, \n",
    "      **kwargs)\n",
    "  dataset.shuffle(1000).batch(5)\n",
    "  dataset.repeat(100000).batch(1)\n",
    "  return dataset\n",
    "\n",
    "\n",
    "def Create_Training_and_Labels(file_name):\n",
    "  df=pd.read_csv(file_name, sep=',',header=None)\n",
    "  train_values = np.array([])\n",
    "  labels = np.array([])\n",
    "  for i in df.values:\n",
    "    train_values = np.append(train_values, (str(i)[1:-1]).split(' ')[0][1:])\n",
    "    labels = np.append(labels, (str(i)[1:-1]).split(' ')[1][:-1])\n",
    "  return train_values, labels\n",
    "\n",
    "def Resize_Images(train_values):\n",
    "  image_list = []\n",
    "  for filename in train_values: \n",
    "      img = Image.open('ASONAM17_Damage_Image_Dataset/' + filename)\n",
    "      resized_img = np.array(img.resize((224, 224)))\n",
    "      if(resized_img.shape == (224, 224, 3)):\n",
    "        image_list.append(resized_img)\n",
    "      else:\n",
    "        print(filename)\n",
    "      #image_list.append(np.array(img.resize((224, 224))))\n",
    "  return np.array(image_list)\n",
    "\n",
    "# Resize test images and return float values\n",
    "def Resize_Test_Images(train_values):\n",
    "  image_list = []\n",
    "  for filename in train_values: \n",
    "      img = Image.open('ASONAM17_Damage_Image_Dataset/' + filename)\n",
    "      resized_img = np.array(img.resize((224, 224)))\n",
    "      if(resized_img.shape == (224, 224, 3)):\n",
    "        image_list.append(resized_img)\n",
    "      else:\n",
    "        print(filename)\n",
    "      #image_list.append(np.array(img.resize((224, 224))))\n",
    "  return np.array(image_list, float)\n",
    "\n",
    "def Extract_Predicted_Test_Labels(predictions):\n",
    "    psuedo_predictions = []\n",
    "    for i in predictions:\n",
    "        psuedo_predictions.append(np.argmax(i))\n",
    "    return np.array(psuedo_predictions)\n",
    "\n",
    "def ParseCSV_and_Create_Training_and_Labels(csv_file, train_csv_file):\n",
    "  dfObj = convert_to_train_and_validation(\"./ASONAM17_Damage_Image_Dataset/\" + csv_file, train_csv_file, \"\")\n",
    "  headers = CreateHeaders(dfObj)\n",
    "  train_values, labels = Create_Training_and_Labels(\"./ASONAM17_Damage_Image_Dataset/\" + csv_file)\n",
    "  return train_values, labels\n",
    "  \n",
    "\n",
    "# Fitting a Model\n",
    "def Fit_Model(model, images, labels):\n",
    "  model.compile(tf.keras.optimizers.Adam(0.001), loss = 'sparse_categorical_crossentropy', metrics= ['accuracy', tf.keras.metrics.Precision(), tf.keras.metrics.Recall])\n",
    "  return model.fit(images, labels.astype(float))\n",
    "\n",
    "# Create VGG16 Model\n",
    "def Create_VGG16Model():\n",
    "  vgg_model = tf.keras.applications.vgg16.VGG16()\n",
    "  seq_model = tf.keras.Sequential()\n",
    "  for layer in vgg_model.layers:\n",
    "    seq_model.add(layer)\n",
    "  seq_model.layers.pop()\n",
    "\n",
    "  for layer in seq_model.layers:\n",
    "    layer.trainable = False\n",
    "\n",
    "  seq_model.add(tf.keras.layers.Dense(3, activation='softmax'))\n",
    "  return seq_model\n",
    "\n",
    "# Function that takes in the history object and plots a graph\n",
    "def plot_history(history):\n",
    "  hist = pd.DataFrame(history.history)\n",
    "  hist['epoch'] = history.epoch\n",
    "  plt.figure()\n",
    "  plt.xlabel('Epoch')\n",
    "  plt.ylabel('Loss')\n",
    "  plt.plot(hist['epoch'], hist['loss'],\n",
    "           label='Training Loss')\n",
    "  plt.plot(hist['epoch'], hist['val_loss'],\n",
    "           label = 'Val Loss')\n",
    "  plt.xlabel('Epoch')\n",
    "  plt.ylabel('Accuracy')\n",
    "  plt.plot(hist['epoch'], hist['accuracy'],\n",
    "           label='Training Loss')\n",
    "  plt.plot(hist['epoch'], hist['val_accuracy'],\n",
    "           label = 'Val Accuracy')\n",
    "  plt.ylim([0, 3])\n",
    "  plt.legend()\n",
    "  plt.show()\n",
    "\n",
    "# Function that takes in the history object and plots a graph\n",
    "def plot_combined_model_history(history):\n",
    "  hist = pd.DataFrame(history.history)\n",
    "  hist['epoch'] = history.epoch\n",
    "  plt.figure()\n",
    "  plt.xlabel('Epoch')\n",
    "  plt.ylabel('Loss')\n",
    "  plt.plot(hist['epoch'], hist['loss'],\n",
    "           label='Training Loss')\n",
    "#   plt.plot(hist['epoch'], hist['val_loss'],\n",
    "#            label = 'Val Loss')\n",
    "  \n",
    "  plt.ylim([0, 3])\n",
    "  plt.legend()\n",
    "  plt.show()\n",
    "\n",
    "# Function that computes precision\n",
    "def Compute_Precision(mat):\n",
    "    columnar_sum = np.sum(mat, axis = 0)\n",
    "    precision_val = []\n",
    "    for i in range(len(columnar_sum)):\n",
    "      precision = mat[i][i]/(columnar_sum[i] + 0.000001)\n",
    "      precision_val = np.append(precision_val, precision)\n",
    "      print('Precision for class: {0} {1}'.format((i), precision))\n",
    "    return precision_val\n",
    "\n",
    "# Function that computes Recall\n",
    "def Compute_Recall(mat):\n",
    "    columnar_sum = np.sum(mat, axis = 1)\n",
    "    recall_val = []\n",
    "    for i in range(len(columnar_sum)):\n",
    "      recall = mat[i][i]/(columnar_sum[i] + 0.000001)\n",
    "      recall_val = np.append(recall_val, recall)\n",
    "      print('Recall for class: {0} {1}'.format((i), recall))\n",
    "    return recall_val\n",
    "\n",
    "# Function that computes F1 Score\n",
    "def Compute_F1Score(precision, recall):\n",
    "  for i in range(len(precision)):\n",
    "    print('F1 Score for Class {0} {1}'.format(i, 2*((precision[i] * recall[i])/ (precision[i] + recall[i] + 0.000001))))"
   ]
  },
  {
   "cell_type": "code",
   "execution_count": 0,
   "metadata": {
    "colab": {
     "base_uri": "https://localhost:8080/",
     "height": 370
    },
    "colab_type": "code",
    "id": "8FknjbjS8M5F",
    "outputId": "4bf1548f-da38-4ea9-e508-144ed7e81ff4",
    "scrolled": true
   },
   "outputs": [
    {
     "name": "stdout",
     "output_type": "stream",
     "text": [
      "38.403141361256544\n",
      "Precision for class: 0 0.45063538597242253\n",
      "Precision for class: 1 0.1118508653637139\n",
      "Precision for class: 2 0.0\n",
      "Recall for class: 0 0.8731060600548572\n",
      "Recall for class: 1 0.18625277120564795\n",
      "Recall for class: 2 0.0\n",
      "F1 Score for Class 0 0.5944547408727172\n",
      "F1 Score for Class 1 0.13976658582359425\n",
      "F1 Score for Class 2 0.0\n",
      "[0.45063539 0.11185087 0.        ]\n",
      "[0.87310606 0.18625277 0.        ]\n",
      "None\n"
     ]
    },
    {
     "data": {
      "image/png": "[encoded data removed]",
      "text/plain": [
       "<Figure size 432x288 with 1 Axes>"
      ]
     },
     "metadata": {
      "needs_background": "light",
      "tags": []
     },
     "output_type": "display_data"
    }
   ],
   "source": [
    "nepal_training_values, nepal_training_labels = ParseCSV_and_Create_Training_and_Labels('nepal.train', 'nepal_train.csv')\n",
    "nepal_validation_values, nepal_validation_labels = ParseCSV_and_Create_Training_and_Labels('nepal.dev', 'nepal_dev.csv')\n",
    "nepal_test_values, nepal_test_labels = ParseCSV_and_Create_Training_and_Labels('nepal.test', 'nepal_test.csv')\n",
    "\n",
    "\n",
    "nepal_resized_Training_Values = Resize_Images(nepal_training_values)\n",
    "nepal_resized_Validation_Values = Resize_Images(nepal_validation_values)\n",
    "\n",
    "validation_dataset = (nepal_resized_Validation_Values, nepal_validation_labels.astype(float))\n",
    "\n",
    "nepal_model = Create_VGG16Model()\n",
    "nepal_model.summary()\n",
    "\n",
    "#Fitting Nepal Model\n",
    "nepal_model.compile(tf.keras.optimizers.Adam(0.001), loss = 'sparse_categorical_crossentropy', metrics= ['accuracy'])\n",
    "nepal_history = nepal_model.fit(nepal_resized_Training_Values, nepal_training_labels.astype(float), validation_data= validation_dataset, epochs = 2)\n",
    "\n",
    "# Predicting on the test set\n",
    "nepal_resized_test_values = Resize_Test_Images(nepal_test_values)\n",
    "nepal_predictions = ruby_model.predict(nepal_resized_test_values)\n",
    "nepal_predicted_labels = Extract_Predicted_Test_Labels(nepal_predictions)\n",
    "\n",
    "nepal_test_labels = nepal_test_labels.astype(int)\n",
    "nepal_value_predictions = np.equal(nepal_predicted_labels, nepal_test_labels)\n",
    "nepal_correct_predictions = 0\n",
    "for i in nepal_value_predictions:\n",
    "    if(i == True):\n",
    "        nepal_correct_predictions = nepal_correct_predictions + 1\n",
    "\n",
    "nepal_accuracy = (nepal_correct_predictions/ len(nepal_predicted_labels)) * 100\n",
    "print(nepal_accuracy)\n",
    "\n",
    "mat = tf.math.confusion_matrix(nepal_test_labels, nepal_predicted_labels)\n",
    "precision = Compute_Precision(mat.numpy())\n",
    "recall = Compute_Recall(mat.numpy())\n",
    "F1Score = Compute_F1Score(precision, recall)\n",
    "\n",
    "print(precision)\n",
    "print(recall)\n",
    "print(F1Score)\n",
    "\n",
    "plot_history(nepal_history)"
   ]
  },
  {
   "cell_type": "code",
   "execution_count": 0,
   "metadata": {
    "colab": {
     "base_uri": "https://localhost:8080/",
     "height": 1000
    },
    "colab_type": "code",
    "id": "GcXCuyv7Y3Mi",
    "outputId": "198cad26-7996-4e66-c05b-9b84954eb73b"
   },
   "outputs": [
    {
     "name": "stdout",
     "output_type": "stream",
     "text": [
      "55.46218487394958\n",
      "[0.69230768 0.         0.14772727]\n",
      "[0.67499999 0.         0.72222218]\n",
      "None\n"
     ]
    },
    {
     "data": {
      "image/png": "[encoded data removed]",
      "text/plain": [
       "<Figure size 432x288 with 1 Axes>"
      ]
     },
     "metadata": {
      "needs_background": "light",
      "tags": []
     },
     "output_type": "display_data"
    }
   ],
   "source": [
    "matthew_training_values, matthew_training_labels = ParseCSV_and_Create_Training_and_Labels('matthew.train', 'matthew_train.csv')\n",
    "matthew_validation_values, matthew_validation_labels = ParseCSV_and_Create_Training_and_Labels('matthew.dev', 'matthew_dev.csv')\n",
    "matthew_test_values, matthew_test_labels = ParseCSV_and_Create_Training_and_Labels('matthew.test', 'matthew_test.csv')\n",
    "\n",
    "bad_labels = []\n",
    "for i, v in enumerate(matthew_training_values):\n",
    "  if(v == 'matthew_hurricane/matthew_hurricane_unlabelled_im_10.png' or v == 'matthew_hurricane/matthew_hurricane_unlabelled_im_218.png' or v == 'matthew_hurricane/matthew_hurricane_unlabelled_im_577.png'):\n",
    "    bad_labels.append(i)\n",
    "\n",
    "matthew_training_labels = np.delete(matthew_training_labels, bad_labels)\n",
    "\n",
    "matthew_resized_Training_Values = Resize_Images(matthew_training_values)\n",
    "matthew_resized_Validation_Values = Resize_Images(matthew_validation_values)\n",
    "\n",
    "validation_dataset = (matthew_resized_Validation_Values, matthew_validation_labels.astype(float))\n",
    "\n",
    "matthew_model = Create_VGG16Model()\n",
    "matthew_model.summary()\n",
    "\n",
    "# Fitting Matthew Model\n",
    "matthew_model.compile(tf.keras.optimizers.Adam(0.001), loss = 'sparse_categorical_crossentropy', metrics= ['accuracy'])\n",
    "matthew_history = matthew_model.fit(matthew_resized_Training_Values, matthew_training_labels.astype(float), validation_data= validation_dataset, epochs = 5)\n",
    "\n",
    "# Predicting on the test set\n",
    "matthew_resized_test_values = Resize_Test_Images(matthew_test_values)\n",
    "matthew_predictions = matthew_model.predict(matthew_resized_test_values)\n",
    "matthew_predicted_labels = Extract_Predicted_Test_Labels(matthew_predictions)\n",
    "\n",
    "matthew_test_labels = matthew_test_labels.astype(int)\n",
    "matthew_value_predictions = np.equal(matthew_predicted_labels, matthew_test_labels)\n",
    "matthew_correct_predictions = 0\n",
    "for i in matthew_value_predictions:\n",
    "    if(i == True):\n",
    "        matthew_correct_predictions = matthew_correct_predictions + 1\n",
    "\n",
    "# matthew_accuracy = (matthew_correct_predictions/ len(matthew_predicted_labels)) * 100\n",
    "print(matthew_accuracy)\n",
    "\n",
    "mat = tf.math.confusion_matrix(matthew_test_labels, matthew_predicted_labels)\n",
    "precision = Compute_Precision(mat.numpy())\n",
    "recall = Compute_Recall(mat.numpy())\n",
    "F1Score = Compute_F1Score(precision, recall)\n",
    "\n",
    "print(precision)\n",
    "print(recall)\n",
    "print(F1Score)\n",
    "\n",
    "plot_history(matthew_history)"
   ]
  },
  {
   "cell_type": "code",
   "execution_count": 0,
   "metadata": {
    "colab": {
     "base_uri": "https://localhost:8080/",
     "height": 1000
    },
    "colab_type": "code",
    "id": "44MJQcPS9fUW",
    "outputId": "20b2840a-313d-49ec-ceb0-dce1b26f6c5c"
   },
   "outputs": [
    {
     "name": "stdout",
     "output_type": "stream",
     "text": [
      "185.5421686746988\n",
      "[0.69230768 0.         0.14772727]\n",
      "[0.67499999 0.         0.72222218]\n",
      "None\n"
     ]
    },
    {
     "data": {
      "image/png": "[encoded data removed]",
      "text/plain": [
       "<Figure size 432x288 with 1 Axes>"
      ]
     },
     "metadata": {
      "needs_background": "light",
      "tags": []
     },
     "output_type": "display_data"
    }
   ],
   "source": [
    "ruby_training_values, ruby_training_labels = ParseCSV_and_Create_Training_and_Labels('ruby.train', 'ruby_train.csv')\n",
    "ruby_validation_values, ruby_validation_labels = ParseCSV_and_Create_Training_and_Labels('ruby.dev', 'ruby_dev.csv')\n",
    "ruby_test_values, ruby_test_labels = ParseCSV_and_Create_Training_and_Labels('ruby.test', 'ruby_test.csv')\n",
    "\n",
    "\n",
    "ruby_resized_Training_Values = Resize_Images(ruby_training_values)\n",
    "ruby_resized_Validation_Values = Resize_Images(ruby_validation_values)\n",
    "\n",
    "validation_dataset = (ruby_resized_Validation_Values, ruby_validation_labels.astype(float))\n",
    "\n",
    "ruby_model = Create_VGG16Model()\n",
    "ruby_model.summary()\n",
    "\n",
    "# Fitting Ruby Model\n",
    "ruby_model.compile(tf.keras.optimizers.Adam(0.001), loss = 'sparse_categorical_crossentropy', metrics= ['accuracy'])\n",
    "ruby_history = ruby_model.fit(ruby_resized_Training_Values, ruby_training_labels.astype(float), validation_data= validation_dataset, epochs = 5)\n",
    "\n",
    "# Predicting on the test set\n",
    "\n",
    "ruby_resized_test_values = Resize_Test_Images(ruby_test_values)\n",
    "ruby_predictions = ruby_model.predict(ruby_resized_test_values)\n",
    "ruby_predicted_labels = Extract_Predicted_Test_Labels(ruby_predictions)\n",
    "\n",
    "ruby_test_labels = ruby_test_labels.astype(int)\n",
    "ruby_value_predictions = np.equal(ruby_predicted_labels, ruby_test_labels)\n",
    "ruby_correct_predictions = 0\n",
    "for i in value_predictions:\n",
    "    if(i == True):\n",
    "        ruby_correct_predictions = ruby_correct_predictions + 1\n",
    "\n",
    "ruby_accuracy = (ruby_correct_predictions/ len(ruby_predicted_labels)) * 100\n",
    "print(ruby_accuracy)\n",
    "\n",
    "mat = tf.math.confusion_matrix(ruby_test_labels, ruby_predicted_labels)\n",
    "precision = Compute_Precision(mat.numpy())\n",
    "recall = Compute_Recall(mat.numpy())\n",
    "F1Score = Compute_F1Score(precision, recall)\n",
    "\n",
    "print(precision)\n",
    "print(recall)\n",
    "print(F1Score)\n",
    "\n",
    "plot_history(ruby_history)"
   ]
  },
  {
   "cell_type": "code",
   "execution_count": 0,
   "metadata": {
    "colab": {
     "base_uri": "https://localhost:8080/",
     "height": 1000
    },
    "colab_type": "code",
    "id": "C_rTJ_CS-LqX",
    "outputId": "5422a000-5a52-43b5-d9ca-6af44c686117",
    "scrolled": true
   },
   "outputs": [
    {
     "name": "stdout",
     "output_type": "stream",
     "text": [
      "66.00877192982456\n",
      "[0.69230768 0.         0.14772727]\n",
      "[0.67499999 0.         0.72222218]\n",
      "None\n"
     ]
    },
    {
     "data": {
      "image/png": "[encoded data removed]",
      "text/plain": [
       "<Figure size 432x288 with 1 Axes>"
      ]
     },
     "metadata": {
      "needs_background": "light",
      "tags": []
     },
     "output_type": "display_data"
    }
   ],
   "source": [
    "ecuador_training_values, ecuador_training_labels = ParseCSV_and_Create_Training_and_Labels('ecuador.train', 'ecuador_train.csv')\n",
    "ecuador_validation_values, ecuador_validation_labels = ParseCSV_and_Create_Training_and_Labels('ecuador.dev', 'ecuador_dev.csv')\n",
    "ecuador_test_values, ecuador_test_labels = ParseCSV_and_Create_Training_and_Labels('ecuador.test', 'ecuador_test.csv')\n",
    "\n",
    "\n",
    "ecuador_resized_Training_Values = Resize_Images(ecuador_training_values)\n",
    "ecuador_resized_Validation_Values = Resize_Images(ecuador_validation_values)\n",
    "\n",
    "validation_dataset = (ecuador_resized_Validation_Values, ecuador_validation_labels.astype(float))\n",
    "\n",
    "ecuador_model = Create_VGG16Model()\n",
    "ecuador_model.summary()\n",
    "\n",
    "# Fitting Ecuador Model\n",
    "ecuador_model.compile(tf.keras.optimizers.Adam(0.001), loss = 'sparse_categorical_crossentropy', metrics= ['accuracy'])\n",
    "ecuador_history = ecuador_model.fit(ecuador_resized_Training_Values, ecuador_training_labels.astype(float), validation_data= validation_dataset, epochs = 5)\n",
    "\n",
    "# Predicting on the test set\n",
    "ecuador_resized_test_values = Resize_Test_Images(ecuador_test_values)\n",
    "ecuador_predictions = ecuador_model.predict(ecuador_resized_test_values)\n",
    "ecuador_predicted_labels = Extract_Predicted_Test_Labels(ecuador_predictions)\n",
    "\n",
    "ecuador_test_labels = ecuador_test_labels.astype(int)\n",
    "ecuador_value_predictions = np.equal(ecuador_predicted_labels, ecuador_test_labels)\n",
    "ecuador_correct_predictions = 0\n",
    "for i in ecuador_value_predictions:\n",
    "    if(i == True):\n",
    "        ecuador_correct_predictions = ecuador_correct_predictions + 1\n",
    "\n",
    "ecuador_accuracy = (ecuador_correct_predictions/ len(ecuador_predicted_labels)) * 100\n",
    "print(ecuador_accuracy)\n",
    "\n",
    "mat = tf.math.confusion_matrix(ecuador_test_labels, ecuador_predicted_labels)\n",
    "precision = Compute_Precision(mat.numpy())\n",
    "recall = Compute_Recall(mat.numpy())\n",
    "F1Score = Compute_F1Score(precision, recall)\n",
    "\n",
    "print(precision)\n",
    "print(recall)\n",
    "print(F1Score)\n",
    "\n",
    "plot_history(ecuador_history)"
   ]
  },
  {
   "cell_type": "code",
   "execution_count": 0,
   "metadata": {
    "colab": {
     "base_uri": "https://localhost:8080/",
     "height": 390
    },
    "colab_type": "code",
    "id": "RKSVdveyoqqc",
    "outputId": "fffc37c2-fa36-4cb5-dc3d-3e2cf7dded17",
    "scrolled": true
   },
   "outputs": [
    {
     "name": "stdout",
     "output_type": "stream",
     "text": [
      "matthew_hurricane/matthew_hurricane_unlabelled_im_10.png\n",
      "matthew_hurricane/matthew_hurricane_unlabelled_im_218.png\n",
      "matthew_hurricane/matthew_hurricane_unlabelled_im_577.png\n"
     ]
    },
    {
     "ename": "KeyboardInterrupt",
     "evalue": "",
     "output_type": "error",
     "traceback": [
      "\u001b[0;31m---------------------------------------------------------------------------\u001b[0m",
      "\u001b[0;31mKeyboardInterrupt\u001b[0m                         Traceback (most recent call last)",
      "\u001b[0;32m<ipython-input-9-edea8212e50c>\u001b[0m in \u001b[0;36m<module>\u001b[0;34m\u001b[0m\n\u001b[1;32m     13\u001b[0m \u001b[0mmatthew_resized_Training_Values\u001b[0m \u001b[0;34m=\u001b[0m \u001b[0mResize_Images\u001b[0m\u001b[0;34m(\u001b[0m\u001b[0mmatthew_training_values\u001b[0m\u001b[0;34m)\u001b[0m\u001b[0;34m\u001b[0m\u001b[0;34m\u001b[0m\u001b[0m\n\u001b[1;32m     14\u001b[0m \u001b[0mruby_resized_Training_Values\u001b[0m \u001b[0;34m=\u001b[0m \u001b[0mResize_Images\u001b[0m\u001b[0;34m(\u001b[0m\u001b[0mruby_training_values\u001b[0m\u001b[0;34m)\u001b[0m\u001b[0;34m\u001b[0m\u001b[0;34m\u001b[0m\u001b[0m\n\u001b[0;32m---> 15\u001b[0;31m \u001b[0mecuador_resized_Training_Values\u001b[0m \u001b[0;34m=\u001b[0m \u001b[0mResize_Images\u001b[0m\u001b[0;34m(\u001b[0m\u001b[0mecuador_training_values\u001b[0m\u001b[0;34m)\u001b[0m\u001b[0;34m\u001b[0m\u001b[0;34m\u001b[0m\u001b[0m\n\u001b[0m\u001b[1;32m     16\u001b[0m \u001b[0mnepal_resized_Training_Values\u001b[0m \u001b[0;34m=\u001b[0m \u001b[0mResize_Images\u001b[0m\u001b[0;34m(\u001b[0m\u001b[0mnepal_training_values\u001b[0m\u001b[0;34m)\u001b[0m\u001b[0;34m\u001b[0m\u001b[0;34m\u001b[0m\u001b[0m\n\u001b[1;32m     17\u001b[0m \u001b[0;34m\u001b[0m\u001b[0m\n",
      "\u001b[0;32m<ipython-input-7-60d538653438>\u001b[0m in \u001b[0;36mResize_Images\u001b[0;34m(train_values)\u001b[0m\n\u001b[1;32m     53\u001b[0m   \u001b[0;32mfor\u001b[0m \u001b[0mfilename\u001b[0m \u001b[0;32min\u001b[0m \u001b[0mtrain_values\u001b[0m\u001b[0;34m:\u001b[0m\u001b[0;34m\u001b[0m\u001b[0;34m\u001b[0m\u001b[0m\n\u001b[1;32m     54\u001b[0m       \u001b[0mimg\u001b[0m \u001b[0;34m=\u001b[0m \u001b[0mImage\u001b[0m\u001b[0;34m.\u001b[0m\u001b[0mopen\u001b[0m\u001b[0;34m(\u001b[0m\u001b[0;34m'ASONAM17_Damage_Image_Dataset/'\u001b[0m \u001b[0;34m+\u001b[0m \u001b[0mfilename\u001b[0m\u001b[0;34m)\u001b[0m\u001b[0;34m\u001b[0m\u001b[0;34m\u001b[0m\u001b[0m\n\u001b[0;32m---> 55\u001b[0;31m       \u001b[0mresized_img\u001b[0m \u001b[0;34m=\u001b[0m \u001b[0mnp\u001b[0m\u001b[0;34m.\u001b[0m\u001b[0marray\u001b[0m\u001b[0;34m(\u001b[0m\u001b[0mimg\u001b[0m\u001b[0;34m.\u001b[0m\u001b[0mresize\u001b[0m\u001b[0;34m(\u001b[0m\u001b[0;34m(\u001b[0m\u001b[0;36m224\u001b[0m\u001b[0;34m,\u001b[0m \u001b[0;36m224\u001b[0m\u001b[0;34m)\u001b[0m\u001b[0;34m)\u001b[0m\u001b[0;34m)\u001b[0m\u001b[0;34m\u001b[0m\u001b[0;34m\u001b[0m\u001b[0m\n\u001b[0m\u001b[1;32m     56\u001b[0m       \u001b[0;32mif\u001b[0m\u001b[0;34m(\u001b[0m\u001b[0mresized_img\u001b[0m\u001b[0;34m.\u001b[0m\u001b[0mshape\u001b[0m \u001b[0;34m==\u001b[0m \u001b[0;34m(\u001b[0m\u001b[0;36m224\u001b[0m\u001b[0;34m,\u001b[0m \u001b[0;36m224\u001b[0m\u001b[0;34m,\u001b[0m \u001b[0;36m3\u001b[0m\u001b[0;34m)\u001b[0m\u001b[0;34m)\u001b[0m\u001b[0;34m:\u001b[0m\u001b[0;34m\u001b[0m\u001b[0;34m\u001b[0m\u001b[0m\n\u001b[1;32m     57\u001b[0m         \u001b[0mimage_list\u001b[0m\u001b[0;34m.\u001b[0m\u001b[0mappend\u001b[0m\u001b[0;34m(\u001b[0m\u001b[0mresized_img\u001b[0m\u001b[0;34m)\u001b[0m\u001b[0;34m\u001b[0m\u001b[0;34m\u001b[0m\u001b[0m\n",
      "\u001b[0;32m~/anaconda3/envs/tf-gpu/lib/python3.7/site-packages/PIL/Image.py\u001b[0m in \u001b[0;36mresize\u001b[0;34m(self, size, resample, box)\u001b[0m\n\u001b[1;32m   1884\u001b[0m             \u001b[0;32mreturn\u001b[0m \u001b[0mim\u001b[0m\u001b[0;34m.\u001b[0m\u001b[0mconvert\u001b[0m\u001b[0;34m(\u001b[0m\u001b[0mself\u001b[0m\u001b[0;34m.\u001b[0m\u001b[0mmode\u001b[0m\u001b[0;34m)\u001b[0m\u001b[0;34m\u001b[0m\u001b[0;34m\u001b[0m\u001b[0m\n\u001b[1;32m   1885\u001b[0m \u001b[0;34m\u001b[0m\u001b[0m\n\u001b[0;32m-> 1886\u001b[0;31m         \u001b[0mself\u001b[0m\u001b[0;34m.\u001b[0m\u001b[0mload\u001b[0m\u001b[0;34m(\u001b[0m\u001b[0;34m)\u001b[0m\u001b[0;34m\u001b[0m\u001b[0;34m\u001b[0m\u001b[0m\n\u001b[0m\u001b[1;32m   1887\u001b[0m \u001b[0;34m\u001b[0m\u001b[0m\n\u001b[1;32m   1888\u001b[0m         \u001b[0;32mreturn\u001b[0m \u001b[0mself\u001b[0m\u001b[0;34m.\u001b[0m\u001b[0m_new\u001b[0m\u001b[0;34m(\u001b[0m\u001b[0mself\u001b[0m\u001b[0;34m.\u001b[0m\u001b[0mim\u001b[0m\u001b[0;34m.\u001b[0m\u001b[0mresize\u001b[0m\u001b[0;34m(\u001b[0m\u001b[0msize\u001b[0m\u001b[0;34m,\u001b[0m \u001b[0mresample\u001b[0m\u001b[0;34m,\u001b[0m \u001b[0mbox\u001b[0m\u001b[0;34m)\u001b[0m\u001b[0;34m)\u001b[0m\u001b[0;34m\u001b[0m\u001b[0;34m\u001b[0m\u001b[0m\n",
      "\u001b[0;32m~/anaconda3/envs/tf-gpu/lib/python3.7/site-packages/PIL/ImageFile.py\u001b[0m in \u001b[0;36mload\u001b[0;34m(self)\u001b[0m\n\u001b[1;32m    251\u001b[0m \u001b[0;34m\u001b[0m\u001b[0m\n\u001b[1;32m    252\u001b[0m                             \u001b[0mb\u001b[0m \u001b[0;34m=\u001b[0m \u001b[0mb\u001b[0m \u001b[0;34m+\u001b[0m \u001b[0ms\u001b[0m\u001b[0;34m\u001b[0m\u001b[0;34m\u001b[0m\u001b[0m\n\u001b[0;32m--> 253\u001b[0;31m                             \u001b[0mn\u001b[0m\u001b[0;34m,\u001b[0m \u001b[0merr_code\u001b[0m \u001b[0;34m=\u001b[0m \u001b[0mdecoder\u001b[0m\u001b[0;34m.\u001b[0m\u001b[0mdecode\u001b[0m\u001b[0;34m(\u001b[0m\u001b[0mb\u001b[0m\u001b[0;34m)\u001b[0m\u001b[0;34m\u001b[0m\u001b[0;34m\u001b[0m\u001b[0m\n\u001b[0m\u001b[1;32m    254\u001b[0m                             \u001b[0;32mif\u001b[0m \u001b[0mn\u001b[0m \u001b[0;34m<\u001b[0m \u001b[0;36m0\u001b[0m\u001b[0;34m:\u001b[0m\u001b[0;34m\u001b[0m\u001b[0;34m\u001b[0m\u001b[0m\n\u001b[1;32m    255\u001b[0m                                 \u001b[0;32mbreak\u001b[0m\u001b[0;34m\u001b[0m\u001b[0;34m\u001b[0m\u001b[0m\n",
      "\u001b[0;31mKeyboardInterrupt\u001b[0m: "
     ]
    }
   ],
   "source": [
    "#Creating Noisy Student Model\n",
    "\n",
    "# Creating a combined test value set\n",
    "combined_training_values = np.row_stack((matthew_resized_Training_Values, ruby_resized_Training_Values, ecuador_resized_Training_Values, nepal_resized_Training_Values))\n",
    "\n",
    "# Creating a combined label set\n",
    "combined_training_labels = np.concatenate((matthew_training_labels, ruby_training_labels, ecuador_training_labels, nepal_training_labels))\n",
    "\n",
    "# Creating a new VGG16 Model\n",
    "combined_model = Create_VGG16Model()\n",
    "\n",
    "combined_model.compile(tf.keras.optimizers.Adam(0.001), loss = 'sparse_categorical_crossentropy', metrics= ['accuracy'])"
   ]
  },
  {
   "cell_type": "code",
   "execution_count": 0,
   "metadata": {
    "colab": {},
    "colab_type": "code",
    "id": "Jj821zwiurys",
    "outputId": "26317913-dbc8-4a6e-a7cd-d3b24116a8b3"
   },
   "outputs": [
    {
     "name": "stdout",
     "output_type": "stream",
     "text": [
      "Train on 13685 samples\n",
      "13685/13685 [==============================] - 1247s 91ms/sample - loss: 0.9825 - accuracy: 0.6533\n",
      "--2019-12-01 20:03:11--  https://crisisnlp.qcri.org/data/crisismmd/CrisisMMD_v1.0.tar.gz\n",
      "Resolving crisisnlp.qcri.org (crisisnlp.qcri.org)... 80.76.166.234\n",
      "Connecting to crisisnlp.qcri.org (crisisnlp.qcri.org)|80.76.166.234|:443... connected.\n",
      "HTTP request sent, awaiting response... 200 OK\n",
      "Length: 1901224486 (1.8G) [application/x-gzip]\n",
      "Saving to: ‘CrisisMMD_v1.0.tar.gz.2’\n",
      "\n",
      "CrisisMMD_v1.0.tar. 100%[===================>]   1.77G  8.70MB/s    in 4m 55s  \n",
      "\n",
      "2019-12-01 20:08:08 (6.15 MB/s) - ‘CrisisMMD_v1.0.tar.gz.2’ saved [1901224486/1901224486]\n",
      "\n"
     ]
    }
   ],
   "source": [
    "# Creating the teacher model by training on the combined dataset\n",
    "combined_history = combined_model.fit(combined_training_values, combined_training_labels.astype(float), epochs = 1)\n",
    "\n",
    "!wget https://crisisnlp.qcri.org/data/crisismmd/CrisisMMD_v1.0.tar.gz\n",
    "!tar -xf CrisisMMD_v1.0.tar.gz"
   ]
  },
  {
   "cell_type": "code",
   "execution_count": 0,
   "metadata": {
    "colab": {},
    "colab_type": "code",
    "id": "be4JqhWPp13t"
   },
   "outputs": [],
   "source": [
    "def Resize_Unlabeled_Images():\n",
    "  image_list = []\n",
    "  for filename in glob.glob('/home/rstewar2/Documents/CIS890-Deep-Learning/CrisisMMD_v1.0/data_image/*/*/*.jpg'): \n",
    "      img = Image.open(filename)\n",
    "      resized_img = np.array(img.resize((224, 224)))\n",
    "      if(resized_img.shape == (224, 224, 3) and len(image_list) < 4000):\n",
    "        image_list.append(resized_img)\n",
    "      else:\n",
    "        break\n",
    "  return np.array(image_list, float), np.array(image_list)\n",
    "\n",
    "float_images, int_images = Resize_Unlabeled_Images()"
   ]
  },
  {
   "cell_type": "code",
   "execution_count": 0,
   "metadata": {
    "colab": {
     "base_uri": "https://localhost:8080/",
     "height": 279
    },
    "colab_type": "code",
    "id": "e9ta0u9G0MAS",
    "outputId": "c90253cb-9c07-47fd-fae1-949838fce296"
   },
   "outputs": [
    {
     "data": {
      "text/plain": [
       "(4000, 224, 224, 3)"
      ]
     },
     "execution_count": 36,
     "metadata": {
      "tags": []
     },
     "output_type": "execute_result"
    }
   ],
   "source": []
  },
  {
   "cell_type": "code",
   "execution_count": 0,
   "metadata": {
    "colab": {},
    "colab_type": "code",
    "id": "rKyTzv8k3pMk"
   },
   "outputs": [],
   "source": [
    "# Using the trained teacher model to predict on unlabeled images\n",
    "\n",
    "combined_model_predict_history = combined_model.predict(float_images)\n",
    "\n",
    "# Extracting the labels from the predictions\n",
    "psuedo_predictions = []\n",
    "for i in combined_model_predict_history:\n",
    "    psuedo_predictions.append(np.argmax(i))\n",
    "    \n",
    "# Creating combined training values including the training values for the unlabeled images\n",
    "combined_training_values = np.row_stack((matthew_resized_Training_Values, ruby_resized_Training_Values, ecuador_resized_Training_Values, int_images))\n",
    "\n",
    "\n",
    "# Creating the training labels including the training labels predicted by the teacher model\n",
    "combined_training_labels = np.concatenate((matthew_training_labels, ruby_training_labels, ecuador_training_labels, psuedo_predictions))\n",
    "\n",
    "\n",
    "# Creating the Student model\n",
    "student_combined_model = Create_VGG16Model()\n",
    "\n",
    "student_combined_model.compile(tf.keras.optimizers.Adam(0.001), loss = 'sparse_categorical_crossentropy', metrics= ['accuracy'])\n",
    "# Training the Student model on the combined dataset creating from training the teacher model\n",
    "student_combined_model_history  = student_combined_model.fit(combined_training_values, combined_training_labels.astype(float), epochs = 1)"
   ]
  },
  {
   "cell_type": "code",
   "execution_count": 0,
   "metadata": {
    "colab": {},
    "colab_type": "code",
    "id": "qCXw5xGy1k_A"
   },
   "outputs": [],
   "source": []
  },
  {
   "cell_type": "code",
   "execution_count": 0,
   "metadata": {
    "colab": {},
    "colab_type": "code",
    "id": "ry337wadQYgl",
    "scrolled": true
   },
   "outputs": [],
   "source": []
  },
  {
   "cell_type": "code",
   "execution_count": 0,
   "metadata": {
    "colab": {},
    "colab_type": "code",
    "id": "gcKUHSjDurzP",
    "outputId": "5858db0d-f5ec-4c9e-f486-8575392a4ae5"
   },
   "outputs": [
    {
     "name": "stdout",
     "output_type": "stream",
     "text": [
      "Train on 6222 samples\n",
      "6222/6222 [==============================] - 574s 92ms/sample - loss: 1.0254 - accuracy: 0.7014\n"
     ]
    }
   ],
   "source": [
    "\n",
    "# # Creating the Student model\n",
    "# student_combined_model = Create_VGG16Model()\n",
    "\n",
    "# student_combined_model.compile(tf.keras.optimizers.Adam(0.001), loss = 'sparse_categorical_crossentropy', metrics= ['accuracy'])\n",
    "# # Training the Student model on the combined dataset creating from training the teacher model\n",
    "# student_combined_model_history  = student_combined_model.fit(combined_training_values, combined_training_labels.astype(float), epochs = 1)"
   ]
  },
  {
   "cell_type": "code",
   "execution_count": 0,
   "metadata": {
    "colab": {},
    "colab_type": "code",
    "id": "nAkQcFBHurzU",
    "outputId": "337cb489-79b4-4248-d8eb-498097ebd5f4"
   },
   "outputs": [
    {
     "name": "stdout",
     "output_type": "stream",
     "text": [
      "Precision for class: 0 0.6699029093694033\n",
      "Precision for class: 1 0.0\n",
      "Precision for class: 2 0.775999996896\n",
      "Recall for class: 0 0.7582417540755948\n",
      "Recall for class: 1 0.0\n",
      "Recall for class: 2 0.7854250980347162\n",
      "F1 Score for Class 0 0.7113397044322757\n",
      "F1 Score for Class 1 0.0\n",
      "F1 Score for Class 2 0.7806836015047189\n",
      "72.80701754385966\n",
      "[0.66990291 0.         0.776     ]\n",
      "[0.75824175 0.         0.7854251 ]\n",
      "None\n"
     ]
    }
   ],
   "source": [
    "# Predicting on the Ecuador Dataset using the Student model\n",
    "student_combined_model_predictions = student_combined_model.predict(ecuador_resized_test_values)\n",
    "student_combined_model_predicted_labels = Extract_Predicted_Test_Labels(student_combined_model_predictions)\n",
    "\n",
    "student_combined_model_test_labels = ecuador_test_labels #student_combined_model_test_labels.astype(int)\n",
    "student_combined_model_value_predictions = np.equal(student_combined_model_predicted_labels, student_combined_model_test_labels)\n",
    "student_combined_model_correct_predictions = 0\n",
    "for i in student_combined_model_value_predictions:\n",
    "    if(i == True):\n",
    "        student_combined_model_correct_predictions = student_combined_model_correct_predictions + 1\n",
    "\n",
    "student_combined_model_accuracy = (student_combined_model_correct_predictions/ len(student_combined_model_predicted_labels)) * 100\n",
    "\n",
    "mat = tf.math.confusion_matrix(student_combined_model_test_labels, student_combined_model_predicted_labels)\n",
    "precision = Compute_Precision(mat.numpy())\n",
    "recall = Compute_Recall(mat.numpy())\n",
    "F1Score = Compute_F1Score(precision, recall)\n",
    "\n",
    "print(student_combined_model_accuracy)\n",
    "\n",
    "print(precision)\n",
    "print(recall)\n",
    "print(F1Score)"
   ]
  },
  {
   "cell_type": "code",
   "execution_count": 0,
   "metadata": {
    "colab": {},
    "colab_type": "code",
    "id": "Pneda1lTurzY",
    "outputId": "e58a0112-3acd-4442-9121-b17c1f066ba4"
   },
   "outputs": [
    {
     "name": "stdout",
     "output_type": "stream",
     "text": [
      "62.82722513089005\n",
      "Precision for class: 0 0.646710525890322\n",
      "Precision for class: 1 0.0\n",
      "Precision for class: 2 0.6160869562538752\n",
      "Recall for class: 0 0.6205808076890272\n",
      "Recall for class: 1 0.0\n",
      "Recall for class: 2 0.7938375345692786\n",
      "F1 Score for Class 0 0.6333757884646474\n",
      "F1 Score for Class 1 0.0\n",
      "F1 Score for Class 2 0.6937571575464359\n",
      "[0.64671053 0.         0.61608696]\n",
      "[0.62058081 0.         0.79383753]\n",
      "None\n"
     ]
    }
   ],
   "source": [
    "# Predicting on the Nepal Dataset using the Student model\n",
    "student_combined_model_predictions = student_combined_model.predict(nepal_resized_test_values)\n",
    "student_combined_model_predicted_labels = Extract_Predicted_Test_Labels(student_combined_model_predictions)\n",
    "\n",
    "student_combined_model_test_labels = nepal_test_labels #student_combined_model_test_labels.astype(int)\n",
    "student_combined_model_value_predictions = np.equal(student_combined_model_predicted_labels, student_combined_model_test_labels)\n",
    "student_combined_model_correct_predictions = 0\n",
    "for i in student_combined_model_value_predictions:\n",
    "    if(i == True):\n",
    "        student_combined_model_correct_predictions = student_combined_model_correct_predictions + 1\n",
    "\n",
    "student_combined_model_accuracy = (student_combined_model_correct_predictions/ len(student_combined_model_predicted_labels)) * 100\n",
    "print(student_combined_model_accuracy)\n",
    "\n",
    "mat = tf.math.confusion_matrix(student_combined_model_test_labels, student_combined_model_predicted_labels)\n",
    "precision = Compute_Precision(mat.numpy())\n",
    "recall = Compute_Recall(mat.numpy())\n",
    "F1Score = Compute_F1Score(precision, recall)\n",
    "\n",
    "print(precision)\n",
    "print(recall)\n",
    "print(F1Score)"
   ]
  },
  {
   "cell_type": "code",
   "execution_count": 0,
   "metadata": {
    "colab": {},
    "colab_type": "code",
    "id": "o6e-6F00urzd",
    "outputId": "ff184d32-6152-4b98-c421-ece1fe04076b"
   },
   "outputs": [
    {
     "name": "stdout",
     "output_type": "stream",
     "text": [
      "42.016806722689076\n",
      "Precision for class: 0 0.7837837626004389\n",
      "Precision for class: 1 0.0\n",
      "Precision for class: 2 0.2560975578524688\n",
      "Recall for class: 0 0.44615383928994096\n",
      "Recall for class: 1 0.0\n",
      "Recall for class: 2 0.8076922766272201\n",
      "F1 Score for Class 0 0.5686269775090252\n",
      "F1 Score for Class 1 0.0\n",
      "F1 Score for Class 2 0.38888851611830866\n",
      "[0.78378376 0.         0.25609756]\n",
      "[0.44615384 0.         0.80769228]\n",
      "None\n"
     ]
    }
   ],
   "source": [
    "# Predicting on the Matthew Dataset using the Student model\n",
    "student_combined_model_predictions = student_combined_model.predict(matthew_resized_test_values)\n",
    "student_combined_model_predicted_labels = Extract_Predicted_Test_Labels(student_combined_model_predictions)\n",
    "\n",
    "student_combined_model_test_labels = matthew_test_labels #student_combined_model_test_labels.astype(int)\n",
    "student_combined_model_value_predictions = np.equal(student_combined_model_predicted_labels, student_combined_model_test_labels)\n",
    "student_combined_model_correct_predictions = 0\n",
    "for i in student_combined_model_value_predictions:\n",
    "    if(i == True):\n",
    "        student_combined_model_correct_predictions = student_combined_model_correct_predictions + 1\n",
    "\n",
    "student_combined_model_accuracy = (student_combined_model_correct_predictions/ len(student_combined_model_predicted_labels)) * 100\n",
    "print(student_combined_model_accuracy)\n",
    "\n",
    "mat = tf.math.confusion_matrix(student_combined_model_test_labels, student_combined_model_predicted_labels)\n",
    "precision = Compute_Precision(mat.numpy())\n",
    "recall = Compute_Recall(mat.numpy())\n",
    "F1Score = Compute_F1Score(precision, recall)\n",
    "\n",
    "print(precision)\n",
    "print(recall)\n",
    "print(F1Score)"
   ]
  },
  {
   "cell_type": "code",
   "execution_count": 0,
   "metadata": {
    "colab": {},
    "colab_type": "code",
    "id": "q_TEM3UVurzh",
    "outputId": "cace5672-813d-477b-a21d-9e4595bd0181"
   },
   "outputs": [
    {
     "name": "stdout",
     "output_type": "stream",
     "text": [
      "40.36144578313253\n",
      "Precision for class: 0 0.6923076834319528\n",
      "Precision for class: 1 0.0\n",
      "Precision for class: 2 0.14772727104855374\n",
      "Recall for class: 0 0.6749999915625001\n",
      "Recall for class: 1 0.0\n",
      "Recall for class: 2 0.7222221820987677\n",
      "F1 Score for Class 0 0.6835437952254899\n",
      "F1 Score for Class 1 0.0\n",
      "F1 Score for Class 2 0.24528273228938677\n",
      "[0.69230768 0.         0.14772727]\n",
      "[0.67499999 0.         0.72222218]\n",
      "None\n"
     ]
    }
   ],
   "source": [
    "# Predicting on the Ruby Dataset using the Student model\n",
    "student_combined_model_predictions = student_combined_model.predict(ruby_resized_test_values)\n",
    "student_combined_model_predicted_labels = Extract_Predicted_Test_Labels(student_combined_model_predictions)\n",
    "\n",
    "student_combined_model_test_labels = ruby_test_labels #student_combined_model_test_labels.astype(int)\n",
    "student_combined_model_value_predictions = np.equal(student_combined_model_predicted_labels, student_combined_model_test_labels)\n",
    "student_combined_model_correct_predictions = 0\n",
    "for i in student_combined_model_value_predictions:\n",
    "    if(i == True):\n",
    "        student_combined_model_correct_predictions = student_combined_model_correct_predictions + 1\n",
    "\n",
    "student_combined_model_accuracy = (student_combined_model_correct_predictions/ len(student_combined_model_predicted_labels)) * 100\n",
    "print(student_combined_model_accuracy)\n",
    "\n",
    "mat = tf.math.confusion_matrix(student_combined_model_test_labels, student_combined_model_predicted_labels)\n",
    "precision = Compute_Precision(mat.numpy())\n",
    "recall = Compute_Recall(mat.numpy())\n",
    "F1Score = Compute_F1Score(precision, recall)\n",
    "\n",
    "print(precision)\n",
    "print(recall)\n",
    "print(F1Score)"
   ]
  },
  {
   "cell_type": "code",
   "execution_count": 0,
   "metadata": {
    "colab": {},
    "colab_type": "code",
    "id": "nl2I46uDurzn"
   },
   "outputs": [],
   "source": []
  }
 ],
 "metadata": {
  "colab": {
   "collapsed_sections": [],
   "machine_shape": "hm",
   "name": "Assignment6.ipynb",
   "provenance": []
  },
  "kernelspec": {
   "display_name": "Python 3",
   "language": "python",
   "name": "python3"
  },
  "language_info": {
   "codemirror_mode": {
    "name": "ipython",
    "version": 3
   },
   "file_extension": ".py",
   "mimetype": "text/x-python",
   "name": "python",
   "nbconvert_exporter": "python",
   "pygments_lexer": "ipython3",
   "version": "3.8.3"
  }
 },
 "nbformat": 4,
 "nbformat_minor": 1
}
